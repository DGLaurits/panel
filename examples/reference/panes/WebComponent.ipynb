{
 "cells": [
  {
   "cell_type": "code",
   "execution_count": null,
   "metadata": {},
   "outputs": [],
   "source": [
    "import param\n",
    "import panel as pn\n",
    "pn.extension()\n",
    "pn.config.sizing_mode=\"stretch_width\"\n",
    "from IPython.display import display, HTML\n",
    "js = \"\"\"\n",
    "<script src=\"https://unpkg.com/@webcomponents/webcomponentsjs@2.0.0/webcomponents-loader.js\"></script>\n",
    "<script type=\"module\" src=\"https://unpkg.com/wired-elements@0.6.4/dist/wired-elements.bundled.js\"></script>\n",
    "\"\"\"\n",
    "display(HTML(js))\n",
    "class CheckBox(pn.pane.HTML):\n",
    "        tag = param.String(\"wired-radio\", constant=True)\n",
    "        js = param.List(\n",
    "            [\"https://unpkg.com/wired-elements@0.6.4/dist/wired-elements.bundled.js\"], constant=True\n",
    "        )\n",
    "\n",
    "        attributes = param.List([\"value\", \"checked\"], constant=True)\n",
    "\n",
    "        checked = param.Boolean(True)\n",
    "        disabled = param.Boolean(False)\n",
    "        \n",
    "        def __init__(self, **params):\n",
    "            super().__init__(**params)\n",
    "            self._set_object()\n",
    "        \n",
    "        @param.depends(\"checked\", watch=True)\n",
    "        def _set_object(self):\n",
    "            if self.checked:\n",
    "                object = \"<wired-radio checked>Radio Two</wired-radio>\"\n",
    "            else:\n",
    "                object = \"<wired-radio>Radio Two</wired-radio>\"\n",
    "            if self.object != object:\n",
    "                self.object = object\n",
    "            \n",
    "        @param.depends(\"object\", watch=True)\n",
    "        def _set_checked(self):\n",
    "            checked=\"checked\" in self.object\n",
    "            if self.checked != checked:\n",
    "                self.checked = checked\n",
    "        \n",
    "        \n",
    "checkbox = CheckBox()\n",
    "pn.Column(pn.Param(checkbox, parameters=[\"object\", \"checked\"]), checkbox)\n"
   ]
  },
  {
   "cell_type": "code",
   "execution_count": null,
   "metadata": {},
   "outputs": [],
   "source": [
    "from panel.components.wired.buttons import RadioButton, CheckBox, Slider, ComboBox\n",
    "\n",
    "js = \"\"\"\n",
    "<script src=\"https://unpkg.com/@webcomponents/webcomponentsjs@2.0.0/webcomponents-loader.js\"></script>\n",
    "<script type=\"module\" src=\"https://unpkg.com/wired-elements@0.6.4/dist/wired-elements.bundled.js\"></script>\n",
    "\"\"\"\n",
    "\n",
    "radio_button = RadioButton()\n",
    "check_box = CheckBox()\n",
    "slider = Slider()\n",
    "combobox = ComboBox()\n",
    "# video = Video(height=500)\n",
    "pn.Column(\n",
    "    pn.pane.HTML(js),\n",
    "    radio_button, pn.Param(radio_button.param.html),\n",
    "    check_box, pn.Param(check_box.param.html),\n",
    "    slider, pn.Param(slider.param.html),\n",
    "    combobox, pn.Param(combobox.param.html),\n",
    "    # video, pn.Param(video.param.html),\n",
    "    ).servable()"
   ]
  },
  {
   "cell_type": "code",
   "execution_count": null,
   "metadata": {},
   "outputs": [],
   "source": []
  }
 ],
 "metadata": {
  "kernelspec": {
   "display_name": "Python 3",
   "language": "python",
   "name": "python3"
  },
  "language_info": {
   "codemirror_mode": {
    "name": "ipython",
    "version": 3
   },
   "file_extension": ".py",
   "mimetype": "text/x-python",
   "name": "python",
   "nbconvert_exporter": "python",
   "pygments_lexer": "ipython3",
   "version": "3.7.5"
  }
 },
 "nbformat": 4,
 "nbformat_minor": 4
}
