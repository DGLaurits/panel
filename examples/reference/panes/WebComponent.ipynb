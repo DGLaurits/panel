{
 "cells": [
  {
   "cell_type": "markdown",
   "metadata": {},
   "source": [
    "# WebComponent Reference"
   ]
  },
  {
   "cell_type": "code",
   "execution_count": null,
   "metadata": {},
   "outputs": [],
   "source": [
    "import param\n",
    "import panel as pn\n",
    "pn.extension()\n",
    "pn.config.sizing_mode=\"stretch_width\"\n",
    "from IPython.core.display import display, HTML\n",
    "display(HTML(\"<style>.container { width:100% !important; }</style>\"))"
   ]
  },
  {
   "cell_type": "code",
   "execution_count": null,
   "metadata": {},
   "outputs": [],
   "source": []
  },
  {
   "cell_type": "markdown",
   "metadata": {},
   "source": [
    "## Introduction\n",
    "\n",
    "Web Components are powering the moderne web. For an introduction and overview see [Web Components: The Secret Ingredient Helping Power The Web](https://www.youtube.com/watch?v=YBwgkr_Sbx0).\n",
    "\n",
    "You can find web components to use in your Panel Project at \n",
    "\n",
    "- [webcomponent.org](https://www.webcomponents.org/)\n",
    "- [npm](https://www.npmjs.com/), \n",
    "\n",
    "Please note picking and using the right web component library and the right version can be **challenging** as the web component standard is still evolving. You might have to do some experimentation before it works for you.\n"
   ]
  },
  {
   "cell_type": "markdown",
   "metadata": {},
   "source": [
    "## Google Model Viewer\n",
    "\n",
    "Google has developed a `model-viewer` web component for interactively viewing very large and detailed 3D models. For an introduction see [modelviewer.dev](https://modelviewer.dev/)\n",
    "\n",
    "We start out by defining the *javascript* nescessary to load the package and the web component *html* string.\n",
    "\n",
    "##### TODO: MAYBE REMOVE SOME OF THE JS TO SIMPLIFY?"
   ]
  },
  {
   "cell_type": "code",
   "execution_count": null,
   "metadata": {},
   "outputs": [],
   "source": [
    "js = \"\"\"\n",
    "<script src=\"https://unpkg.com/@webcomponents/webcomponentsjs@2.2.7/webcomponents-loader.js\"></script>\n",
    "<script type=\"module\" src=\"https://unpkg.com/@google/model-viewer/dist/model-viewer.js\"></script>\n",
    "<script nomodule src=\"https://unpkg.com/@google/model-viewer/dist/model-viewer-legacy.js\"></script>\n",
    "\"\"\"\n",
    "js_pane = pn.pane.HTML(js)\n",
    "\n",
    "html=\"\"\"\n",
    "<model-viewer src=\"https://modelviewer.dev/shared-assets/models/Astronaut.glb\" alt=\"A 3D model of an astronaut\"\n",
    "auto-rotate camera-controls>\n",
    "</model-viewer>\n",
    "\"\"\""
   ]
  },
  {
   "cell_type": "markdown",
   "metadata": {},
   "source": [
    "### Simple Version"
   ]
  },
  {
   "cell_type": "code",
   "execution_count": null,
   "metadata": {},
   "outputs": [],
   "source": [
    "model_viewer_pane = pn.pane.WebComponent(html=html, height=200, width=300)\n",
    "\n",
    "pn.Column(\n",
    "    js_pane,\n",
    "    model_viewer_pane,\n",
    "    height=200,\n",
    ")"
   ]
  },
  {
   "cell_type": "markdown",
   "metadata": {},
   "source": [
    "### Advanced Version"
   ]
  },
  {
   "cell_type": "code",
   "execution_count": null,
   "metadata": {},
   "outputs": [],
   "source": [
    "astronaut_src = \"https://modelviewer.dev/shared-assets/models/Astronaut.glb\"\n",
    "flight_helmet_src=\"https://modelviewer.dev/shared-assets/models/glTF-Sample-Models/2.0/FlightHelmet/glTF/FlightHelmet.gltf\"\n",
    "\n",
    "class ModelViewer(pn.pane.WebComponent):\n",
    "    \"\"\"A Wired ModelViewer\"\"\"\n",
    "    html = param.String(html)\n",
    "    attributes_to_watch= param.Dict({\"src\": \"src\", \"exposure\": \"exposure\"})\n",
    "\n",
    "    src = param.String(astronaut_src)\n",
    "    exposure = param.Number(1.0, bounds=(0, 2))\n",
    "\n",
    "\n",
    "model_viewer = ModelViewer(min_height=200, width=300, src=flight_helmet_src)\n",
    "\n",
    "pn.Row(\n",
    "    js_pane,\n",
    "    model_viewer, pn.Param(model_viewer, parameters=[\"exposure\"]),\n",
    ")"
   ]
  },
  {
   "cell_type": "markdown",
   "metadata": {},
   "source": [
    "For an even more interactive version that has been developed by Google see [model-viewer tester](https://modelviewer.dev/examples/tester.html)."
   ]
  },
  {
   "cell_type": "markdown",
   "metadata": {},
   "source": [
    "## Open Source Web Component Libraries\n",
    "\n",
    "- [Material](https://github.com/material-components/material-components-web-components#readme) (Work in Progress)\n",
    "- [Vaadin](https://vaadin.com/components) (Mature)"
   ]
  },
  {
   "cell_type": "markdown",
   "metadata": {},
   "source": [
    "## Including Prebuilt Web Component Modules using unpkg.com\n",
    "\n",
    "If you find a web component library on [npm](https://npmjs.com) you can find a corresponding precombiled library on [unpkg](https://unpkg.com)\n",
    "\n",
    "For example if you find the `wired-button` at [https://www.npmjs.com/package/wired-button](https://www.npmjs.com/package/wired-button) then you can browse the precompiled files at [https://www.unpkg.com/browse/wired-button/](https://www.unpkg.com/browse/wired-button/) to locate the relevant precombiled file at [https://www.unpkg.com/wired-button@2.0.0/lib/wired-button.js](https://www.unpkg.com/wired-button@2.0.0/lib/wired-button.js)."
   ]
  },
  {
   "cell_type": "markdown",
   "metadata": {},
   "source": [
    "## References\n",
    "\n",
    "- [Build an app with WebComponents in 9 minutes](https://www.youtube.com/watch?v=mTNdTcwK3MM)\n",
    "- [How to use Web Components in a JavaScript project](https://www.youtube.com/watch?v=88Sa-SlHRxk&t=63s)"
   ]
  },
  {
   "cell_type": "markdown",
   "metadata": {},
   "source": []
  }
 ],
 "metadata": {
  "kernelspec": {
   "display_name": "Python 3",
   "language": "python",
   "name": "python3"
  },
  "language_info": {
   "codemirror_mode": {
    "name": "ipython",
    "version": 3
   },
   "file_extension": ".py",
   "mimetype": "text/x-python",
   "name": "python",
   "nbconvert_exporter": "python",
   "pygments_lexer": "ipython3",
   "version": "3.7.4"
  }
 },
 "nbformat": 4,
 "nbformat_minor": 4
}
